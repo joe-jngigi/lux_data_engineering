{
 "cells": [
  {
   "cell_type": "code",
   "execution_count": 1,
   "id": "6aee88ab",
   "metadata": {},
   "outputs": [],
   "source": [
    "import sys\n",
    "import numpy as np"
   ]
  },
  {
   "cell_type": "code",
   "execution_count": 3,
   "id": "3e078a71",
   "metadata": {},
   "outputs": [
    {
     "data": {
      "text/plain": [
       "array([12. , 34. , 55. , 34.5, 67. , 45. ,  1. ,  5. , 23. ])"
      ]
     },
     "execution_count": 3,
     "metadata": {},
     "output_type": "execute_result"
    }
   ],
   "source": [
    "np.array([12,34,55, 34.5, 67, 45, 1, 5, 23])"
   ]
  },
  {
   "cell_type": "code",
   "execution_count": 4,
   "id": "1a9b26d6",
   "metadata": {},
   "outputs": [
    {
     "name": "stdout",
     "output_type": "stream",
     "text": [
      "float16\n",
      "[12.  34.  55.  34.5 67.  45.   1.   5.  23. ]\n",
      "uint32\n",
      "[   123    400    567    124    304    100 267000]\n"
     ]
    },
    {
     "data": {
      "text/plain": [
       "(12.0, 67.0)"
      ]
     },
     "execution_count": 4,
     "metadata": {},
     "output_type": "execute_result"
    }
   ],
   "source": [
    "list_a = np.array([12 ,34 ,55 , 34.5 , 67 , 45 , 1.0, 5, 23.0], dtype = np.float16)\n",
    "list_b = np.array([123, 400, 567, 124, 304, 100, 267000], dtype = np.uint32)\n",
    "\n",
    "print(list_a.dtype)\n",
    "print(f'{list_a}')\n",
    "\n",
    "print(list_b.dtype)\n",
    "print(list_b)\n",
    "list_a[0], list_a[4]"
   ]
  },
  {
   "cell_type": "code",
   "execution_count": 5,
   "id": "f4df50f7",
   "metadata": {},
   "outputs": [
    {
     "data": {
      "text/plain": [
       "(567, 304, 267000)"
      ]
     },
     "execution_count": 5,
     "metadata": {},
     "output_type": "execute_result"
    }
   ],
   "source": [
    "# This should extract the third, fifth and the last numbers in the array list\n",
    "list_b[2], list_b[4], list_b[-1]"
   ]
  },
  {
   "cell_type": "code",
   "execution_count": 6,
   "id": "45c79535",
   "metadata": {},
   "outputs": [
    {
     "data": {
      "text/plain": [
       "array([123, 304, 100], dtype=uint32)"
      ]
     },
     "execution_count": 6,
     "metadata": {},
     "output_type": "execute_result"
    }
   ],
   "source": [
    "# Alternatively, you can use multi indexing to achieve the same results\n",
    "list_b[[0, 4, -2]]\n"
   ]
  },
  {
   "cell_type": "code",
   "execution_count": 7,
   "id": "13ca3e13",
   "metadata": {},
   "outputs": [
    {
     "name": "stdout",
     "output_type": "stream",
     "text": [
      "[[12  4 56 90]\n",
      " [10  9  0 44]]\n",
      "(2, 4)\n",
      "2\n",
      "8\n"
     ]
    }
   ],
   "source": [
    "# Dimensions and shapes\n",
    "matrix_arr = np.array([\n",
    "    [12, 4, 56, 90],\n",
    "    [10, 9, 0, 44]\n",
    "])\n",
    "\n",
    "print(matrix_arr)\n",
    "print(matrix_arr.shape)\n",
    "print(matrix_arr.ndim)\n",
    "print(matrix_arr.size)"
   ]
  },
  {
   "attachments": {},
   "cell_type": "markdown",
   "id": "7177fabd",
   "metadata": {},
   "source": [
    "## 3-Dimensional Arrays\n",
    "This is a three-dimensional matrix or a tensor with shape (2, 2, 3), meaning it has 2 matrices, each containing 2 rows and 3 columns.\n",
    "\n",
    "The first matrix contains the values 1 to 6, and the second matrix contains the values 7 to 12. The elements in the tensor can be accessed using indexing, for example, the element in the first row, second column of the second matrix can be accessed using tensor[1][0][1], which returns the value 8.\n",
    "\n",
    "```Python\n",
    "[\n",
    "  [[1, 2, 3], [4, 5, 6]],\n",
    "  [[7, 8, 9], [10, 11, 12]]\n",
    "]\n",
    "```"
   ]
  },
  {
   "cell_type": "code",
   "execution_count": 8,
   "id": "8c159634",
   "metadata": {},
   "outputs": [
    {
     "name": "stdout",
     "output_type": "stream",
     "text": [
      "[[[13  7  9]\n",
      "  [12 43 12]]\n",
      "\n",
      " [[21 32 11]\n",
      "  [12 43  4]]]\n",
      "(2, 2, 3)\n",
      "3\n",
      "12\n"
     ]
    }
   ],
   "source": [
    "three_d_matrix = np.array([\n",
    "    [\n",
    "    [13, 7, 9],\n",
    "    [12, 43, 12]\n",
    "    ],\n",
    "\n",
    "    [\n",
    "    [21, 32, 11],\n",
    "    [12, 43, 4] \n",
    "    ]\n",
    "])\n",
    "print(three_d_matrix)\n",
    "print(three_d_matrix.shape)\n",
    "print(three_d_matrix.ndim)\n",
    "print(three_d_matrix.size)"
   ]
  }
 ],
 "metadata": {
  "kernelspec": {
   "display_name": "Python 3 (ipykernel)",
   "language": "python",
   "name": "python3"
  },
  "language_info": {
   "codemirror_mode": {
    "name": "ipython",
    "version": 3
   },
   "file_extension": ".py",
   "mimetype": "text/x-python",
   "name": "python",
   "nbconvert_exporter": "python",
   "pygments_lexer": "ipython3",
   "version": "3.10.7"
  }
 },
 "nbformat": 4,
 "nbformat_minor": 5
}
